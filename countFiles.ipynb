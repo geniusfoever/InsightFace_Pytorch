{
 "cells": [
  {
   "cell_type": "code",
   "execution_count": 6,
   "metadata": {
    "collapsed": true
   },
   "outputs": [],
   "source": [
    "import os"
   ]
  },
  {
   "cell_type": "code",
   "execution_count": 7,
   "outputs": [
    {
     "name": "stdout",
     "output_type": "stream",
     "text": [
      "imgs0 48200 2589337\n",
      "imgs1 36796 885301\n",
      "imgs2 37172 890823\n",
      "imgs3 37528 898108\n",
      "imgs4 37875 907251\n",
      "imgs5 38205 911476\n",
      "imgs6 38456 918758\n",
      "imgs7 38745 925015\n",
      "imgs8 39037 934040\n",
      "imgs9 39324 937714\n",
      "imgs10 1 0\n"
     ]
    }
   ],
   "source": [
    "\n",
    "root = \"C:/dataset/glint_umd\"\n",
    "default_folder = \"imgs0\"\n",
    "alternative_folders_number = 10\n",
    "\n",
    "alternative_folders = [default_folder]\n",
    "for i in range(alternative_folders_number):\n",
    "    alternative_folders.append(\"imgs\" + str(i + 1))\n",
    "import multiprocessing\n",
    "pool=multiprocessing.Pool\n",
    "for folder in alternative_folders:\n",
    "    class_number=0\n",
    "    image_number=0\n",
    "    for class_root,_,image_files  in os.walk(os.path.join(root,folder)):\n",
    "        class_number+=1\n",
    "        image_number+=len(image_files)\n",
    "    print(folder,class_number,image_number)"
   ],
   "metadata": {
    "collapsed": false
   }
  },
  {
   "cell_type": "code",
   "execution_count": null,
   "outputs": [],
   "source": [],
   "metadata": {
    "collapsed": false
   }
  }
 ],
 "metadata": {
  "kernelspec": {
   "display_name": "Python 3",
   "language": "python",
   "name": "python3"
  },
  "language_info": {
   "codemirror_mode": {
    "name": "ipython",
    "version": 2
   },
   "file_extension": ".py",
   "mimetype": "text/x-python",
   "name": "python",
   "nbconvert_exporter": "python",
   "pygments_lexer": "ipython2",
   "version": "2.7.6"
  }
 },
 "nbformat": 4,
 "nbformat_minor": 0
}
