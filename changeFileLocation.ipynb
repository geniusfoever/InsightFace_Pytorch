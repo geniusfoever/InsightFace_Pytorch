{
 "cells": [
  {
   "cell_type": "code",
   "execution_count": 1,
   "metadata": {
    "collapsed": true,
    "pycharm": {
     "name": "#%%\n"
    }
   },
   "outputs": [],
   "source": [
    "import os, shutil\n"
   ]
  },
  {
   "cell_type": "code",
   "execution_count": 2,
   "outputs": [],
   "source": [
    "root=\"C:/dataset/glint_umd\"\n",
    "default_folder=\"imgs0\"\n",
    "alternative_folders_number=10\n",
    "\n",
    "alternative_folders=[]\n",
    "for i in range(alternative_folders_number):\n",
    "    alternative_folders.append(\"imgs\"+str(i+1))\n",
    "    d=os.path.join(root,alternative_folders[i])\n",
    "    if not os.path.exists(d): os.mkdir(d)"
   ],
   "metadata": {
    "collapsed": false,
    "pycharm": {
     "name": "#%%\n"
    }
   }
  },
  {
   "cell_type": "code",
   "execution_count": null,
   "outputs": [],
   "source": [
    "import multiprocessing\n",
    "import tqdm\n",
    "pool=multiprocessing.Pool(12)\n",
    "def change_location(class_root,d,image_files):\n",
    "    for file in image_files:\n",
    "        alternative_folder_id=hash(file)%alternative_folders_number\n",
    "        if alternative_folder_id==0:continue\n",
    "        destination=os.path.join(root,alternative_folders[alternative_folder_id-1],os.path.basename(class_root))\n",
    "        if not os.path.exists(destination): os.mkdir(destination)\n",
    "        shutil.move(os.path.join(class_root,file),os.path.join(destination,file))\n",
    "pool.map(change_location,os.walk(os.path.join(root,tqdm(default_folder))))"
   ],
   "metadata": {
    "collapsed": false,
    "pycharm": {
     "name": "#%%\n"
    }
   }
  },
  {
   "cell_type": "code",
   "execution_count": 3,
   "outputs": [],
   "source": [
    "for class_root,_,image_files  in os.walk(os.path.join(root,default_folder)):\n",
    "    for file in image_files:\n",
    "        alternative_folder_id=hash(file)%alternative_folders_number\n",
    "        if alternative_folder_id==0:continue\n",
    "        destination=os.path.join(root,alternative_folders[alternative_folder_id-1],os.path.basename(class_root))\n",
    "        if not os.path.exists(destination): os.mkdir(destination)\n",
    "        shutil.move(os.path.join(class_root,file),os.path.join(destination,file))\n",
    "\n"
   ],
   "metadata": {
    "collapsed": false,
    "pycharm": {
     "name": "#%%\n"
    }
   }
  },
  {
   "cell_type": "code",
   "execution_count": null,
   "outputs": [],
   "source": [],
   "metadata": {
    "collapsed": false,
    "pycharm": {
     "name": "#%%\n"
    }
   }
  }
 ],
 "metadata": {
  "kernelspec": {
   "display_name": "Python 3",
   "language": "python",
   "name": "python3"
  },
  "language_info": {
   "codemirror_mode": {
    "name": "ipython",
    "version": 2
   },
   "file_extension": ".py",
   "mimetype": "text/x-python",
   "name": "python",
   "nbconvert_exporter": "python",
   "pygments_lexer": "ipython2",
   "version": "2.7.6"
  }
 },
 "nbformat": 4,
 "nbformat_minor": 0
}